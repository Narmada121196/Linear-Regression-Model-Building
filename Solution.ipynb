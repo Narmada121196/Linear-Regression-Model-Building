{
 "cells": [
  {
   "cell_type": "code",
   "execution_count": 1,
   "id": "2090420d-d9c6-4ec8-9372-6dd0ad0def2c",
   "metadata": {},
   "outputs": [],
   "source": [
    "import pandas as pd\n",
    "import numpy as np\n",
    "import matplotlib.pyplot as plt\n",
    "%matplotlib inline"
   ]
  },
  {
   "cell_type": "code",
   "execution_count": 2,
   "id": "b45defdf-5cbc-4d31-b334-a6952be32901",
   "metadata": {},
   "outputs": [],
   "source": [
    "data=pd.read_csv(\"dm.csv\")"
   ]
  },
  {
   "cell_type": "code",
   "execution_count": 3,
   "id": "540fae9f-7891-4ac3-a80f-1e12c94711f2",
   "metadata": {},
   "outputs": [
    {
     "data": {
      "text/html": [
       "<div>\n",
       "<style scoped>\n",
       "    .dataframe tbody tr th:only-of-type {\n",
       "        vertical-align: middle;\n",
       "    }\n",
       "\n",
       "    .dataframe tbody tr th {\n",
       "        vertical-align: top;\n",
       "    }\n",
       "\n",
       "    .dataframe thead th {\n",
       "        text-align: right;\n",
       "    }\n",
       "</style>\n",
       "<table border=\"1\" class=\"dataframe\">\n",
       "  <thead>\n",
       "    <tr style=\"text-align: right;\">\n",
       "      <th></th>\n",
       "      <th>Age</th>\n",
       "      <th>Gender</th>\n",
       "      <th>OwnHome</th>\n",
       "      <th>Married</th>\n",
       "      <th>Location</th>\n",
       "      <th>Salary</th>\n",
       "      <th>Children</th>\n",
       "      <th>History</th>\n",
       "      <th>Catalogs</th>\n",
       "      <th>AmountSpent</th>\n",
       "      <th>Cust_Id</th>\n",
       "    </tr>\n",
       "  </thead>\n",
       "  <tbody>\n",
       "    <tr>\n",
       "      <th>0</th>\n",
       "      <td>Old</td>\n",
       "      <td>Female</td>\n",
       "      <td>Own</td>\n",
       "      <td>Single</td>\n",
       "      <td>Far</td>\n",
       "      <td>47500</td>\n",
       "      <td>0</td>\n",
       "      <td>High</td>\n",
       "      <td>6</td>\n",
       "      <td>755</td>\n",
       "      <td>247</td>\n",
       "    </tr>\n",
       "    <tr>\n",
       "      <th>1</th>\n",
       "      <td>Middle</td>\n",
       "      <td>Male</td>\n",
       "      <td>Rent</td>\n",
       "      <td>Single</td>\n",
       "      <td>Close</td>\n",
       "      <td>63600</td>\n",
       "      <td>0</td>\n",
       "      <td>High</td>\n",
       "      <td>6</td>\n",
       "      <td>1318</td>\n",
       "      <td>127</td>\n",
       "    </tr>\n",
       "    <tr>\n",
       "      <th>2</th>\n",
       "      <td>Young</td>\n",
       "      <td>Female</td>\n",
       "      <td>Rent</td>\n",
       "      <td>Single</td>\n",
       "      <td>Close</td>\n",
       "      <td>13500</td>\n",
       "      <td>0</td>\n",
       "      <td>Low</td>\n",
       "      <td>18</td>\n",
       "      <td>296</td>\n",
       "      <td>479</td>\n",
       "    </tr>\n",
       "    <tr>\n",
       "      <th>3</th>\n",
       "      <td>Middle</td>\n",
       "      <td>Male</td>\n",
       "      <td>Own</td>\n",
       "      <td>Married</td>\n",
       "      <td>Close</td>\n",
       "      <td>85600</td>\n",
       "      <td>1</td>\n",
       "      <td>High</td>\n",
       "      <td>18</td>\n",
       "      <td>2436</td>\n",
       "      <td>475</td>\n",
       "    </tr>\n",
       "    <tr>\n",
       "      <th>4</th>\n",
       "      <td>Middle</td>\n",
       "      <td>Female</td>\n",
       "      <td>Own</td>\n",
       "      <td>Single</td>\n",
       "      <td>Close</td>\n",
       "      <td>68400</td>\n",
       "      <td>0</td>\n",
       "      <td>High</td>\n",
       "      <td>12</td>\n",
       "      <td>1304</td>\n",
       "      <td>151</td>\n",
       "    </tr>\n",
       "  </tbody>\n",
       "</table>\n",
       "</div>"
      ],
      "text/plain": [
       "      Age  Gender OwnHome  Married Location  Salary  Children History  \\\n",
       "0     Old  Female     Own   Single      Far   47500         0    High   \n",
       "1  Middle    Male    Rent   Single    Close   63600         0    High   \n",
       "2   Young  Female    Rent   Single    Close   13500         0     Low   \n",
       "3  Middle    Male     Own  Married    Close   85600         1    High   \n",
       "4  Middle  Female     Own   Single    Close   68400         0    High   \n",
       "\n",
       "   Catalogs  AmountSpent  Cust_Id  \n",
       "0         6          755      247  \n",
       "1         6         1318      127  \n",
       "2        18          296      479  \n",
       "3        18         2436      475  \n",
       "4        12         1304      151  "
      ]
     },
     "execution_count": 3,
     "metadata": {},
     "output_type": "execute_result"
    }
   ],
   "source": [
    "data.head()"
   ]
  },
  {
   "cell_type": "code",
   "execution_count": 4,
   "id": "10389336-4dfb-42d6-b466-a9a2ad7955ed",
   "metadata": {},
   "outputs": [
    {
     "data": {
      "text/plain": [
       "<AxesSubplot:title={'center':'AmountSpent'}, xlabel='Age'>"
      ]
     },
     "execution_count": 4,
     "metadata": {},
     "output_type": "execute_result"
    },
    {
     "data": {
      "image/png": "[encoded data removed]",
      "text/plain": [
       "<Figure size 432x288 with 1 Axes>"
      ]
     },
     "metadata": {
      "needs_background": "light"
     },
     "output_type": "display_data"
    }
   ],
   "source": [
    "## Explore data\n",
    "data.boxplot(by=\"Age\",column=\"AmountSpent\") ## Age has an impact on amount spent, spend behaviour of middle and old age people look the same"
   ]
  },
  {
   "cell_type": "code",
   "execution_count": 5,
   "id": "84447c01-db0d-439a-9a25-938ed03bea88",
   "metadata": {},
   "outputs": [
    {
     "data": {
      "text/plain": [
       "array(['Middle-Old', 'Young'], dtype=object)"
      ]
     },
     "execution_count": 5,
     "metadata": {},
     "output_type": "execute_result"
    }
   ],
   "source": [
    "### Doing feature engineering on the age column\n",
    "data[\"Age\"]=data[\"Age\"].map(lambda x: \"Middle-Old\" if x!=\"Young\" else \"Young\")\n",
    "data[\"Age\"].unique()"
   ]
  },
  {
   "cell_type": "code",
   "execution_count": 6,
   "id": "9f25f94d-30e6-4ff4-bc1c-a50f9d3ba3af",
   "metadata": {},
   "outputs": [
    {
     "data": {
      "text/plain": [
       "<AxesSubplot:title={'center':'AmountSpent'}, xlabel='Gender'>"
      ]
     },
     "execution_count": 6,
     "metadata": {},
     "output_type": "execute_result"
    },
    {
     "data": {
      "image/png": "[encoded data removed]",
      "text/plain": [
       "<Figure size 432x288 with 1 Axes>"
      ]
     },
     "metadata": {
      "needs_background": "light"
     },
     "output_type": "display_data"
    }
   ],
   "source": [
    "## Gender\n",
    "data.boxplot(by=\"Gender\",column=\"AmountSpent\")"
   ]
  },
  {
   "cell_type": "code",
   "execution_count": 7,
   "id": "b6825be9-f755-43a6-bbea-2c15cf046b09",
   "metadata": {},
   "outputs": [
    {
     "data": {
      "text/plain": [
       "<AxesSubplot:title={'center':'AmountSpent'}, xlabel='OwnHome'>"
      ]
     },
     "execution_count": 7,
     "metadata": {},
     "output_type": "execute_result"
    },
    {
     "data": {
      "image/png": "[encoded data removed]",
      "text/plain": [
       "<Figure size 432x288 with 1 Axes>"
      ]
     },
     "metadata": {
      "needs_background": "light"
     },
     "output_type": "display_data"
    }
   ],
   "source": [
    "## Ownhome\n",
    "data.boxplot(by=\"OwnHome\",column=\"AmountSpent\")"
   ]
  },
  {
   "cell_type": "code",
   "execution_count": 8,
   "id": "195e0abc-2edd-457f-9afd-4422128c9865",
   "metadata": {},
   "outputs": [
    {
     "data": {
      "text/plain": [
       "<AxesSubplot:title={'center':'AmountSpent'}, xlabel='Married'>"
      ]
     },
     "execution_count": 8,
     "metadata": {},
     "output_type": "execute_result"
    },
    {
     "data": {
      "image/png": "[encoded data removed]",
      "text/plain": [
       "<Figure size 432x288 with 1 Axes>"
      ]
     },
     "metadata": {
      "needs_background": "light"
     },
     "output_type": "display_data"
    }
   ],
   "source": [
    "## Marital Status\n",
    "data.boxplot(by=\"Married\",column=\"AmountSpent\")"
   ]
  },
  {
   "cell_type": "code",
   "execution_count": 9,
   "id": "14fc04e7-7a51-44f6-a5fe-1639e37e8692",
   "metadata": {},
   "outputs": [
    {
     "data": {
      "text/plain": [
       "303"
      ]
     },
     "execution_count": 9,
     "metadata": {},
     "output_type": "execute_result"
    }
   ],
   "source": [
    "data[\"History\"].isnull().sum() ## Missing values in purchase history column, these are new customers"
   ]
  },
  {
   "cell_type": "code",
   "execution_count": 10,
   "id": "c3829ca3-c6cf-436d-bbe8-a0ee0f35228a",
   "metadata": {},
   "outputs": [
    {
     "data": {
      "text/plain": [
       "array(['High', 'Low', 'Medium', 'NewCustomer'], dtype=object)"
      ]
     },
     "execution_count": 10,
     "metadata": {},
     "output_type": "execute_result"
    }
   ],
   "source": [
    "data[\"History\"].fillna(\"NewCustomer\",inplace=True)\n",
    "data[\"History\"].unique()"
   ]
  },
  {
   "cell_type": "code",
   "execution_count": 12,
   "id": "61aae46d-2de5-4e8c-98d7-1e6c34fb6cf4",
   "metadata": {},
   "outputs": [
    {
     "data": {
      "text/plain": [
       "<AxesSubplot:title={'center':'AmountSpent'}, xlabel='Children'>"
      ]
     },
     "execution_count": 12,
     "metadata": {},
     "output_type": "execute_result"
    },
    {
     "data": {
      "image/png": "[encoded data removed]",
      "text/plain": [
       "<Figure size 432x288 with 1 Axes>"
      ]
     },
     "metadata": {
      "needs_background": "light"
     },
     "output_type": "display_data"
    }
   ],
   "source": [
    "## Children\n",
    "data.boxplot(by=\"Children\",column=\"AmountSpent\") ## 0 and 1 have similar spending behaviour, 2 and 3 also have a similar spending behaviour"
   ]
  },
  {
   "cell_type": "code",
   "execution_count": 13,
   "id": "e815bd82-4707-4734-a40e-7663e24b2778",
   "metadata": {},
   "outputs": [],
   "source": [
    "## feature engineering on the Children variable\n",
    "data[\"Children\"]=data[\"Children\"].map(lambda x: \"0-1\" if x<=1 else \"2-3\")"
   ]
  },
  {
   "cell_type": "code",
   "execution_count": 19,
   "id": "2ccb5476-0a3d-45c9-9ad0-9223c152ee0a",
   "metadata": {},
   "outputs": [],
   "source": [
    "### Train test split\n",
    "train=data.sample(frac=0.7,random_state=200)\n",
    "test=data.drop(train.index)"
   ]
  },
  {
   "cell_type": "code",
   "execution_count": 20,
   "id": "1c8f2e43",
   "metadata": {},
   "outputs": [
    {
     "data": {
      "text/html": [
       "<div>\n",
       "<style scoped>\n",
       "    .dataframe tbody tr th:only-of-type {\n",
       "        vertical-align: middle;\n",
       "    }\n",
       "\n",
       "    .dataframe tbody tr th {\n",
       "        vertical-align: top;\n",
       "    }\n",
       "\n",
       "    .dataframe thead th {\n",
       "        text-align: right;\n",
       "    }\n",
       "</style>\n",
       "<table border=\"1\" class=\"dataframe\">\n",
       "  <thead>\n",
       "    <tr style=\"text-align: right;\">\n",
       "      <th></th>\n",
       "      <th>Age</th>\n",
       "      <th>Gender</th>\n",
       "      <th>OwnHome</th>\n",
       "      <th>Married</th>\n",
       "      <th>Location</th>\n",
       "      <th>Salary</th>\n",
       "      <th>Children</th>\n",
       "      <th>History</th>\n",
       "      <th>Catalogs</th>\n",
       "      <th>AmountSpent</th>\n",
       "      <th>Cust_Id</th>\n",
       "    </tr>\n",
       "  </thead>\n",
       "  <tbody>\n",
       "    <tr>\n",
       "      <th>674</th>\n",
       "      <td>Middle-Old</td>\n",
       "      <td>Female</td>\n",
       "      <td>Own</td>\n",
       "      <td>Married</td>\n",
       "      <td>Close</td>\n",
       "      <td>85500</td>\n",
       "      <td>2-3</td>\n",
       "      <td>Medium</td>\n",
       "      <td>18</td>\n",
       "      <td>895</td>\n",
       "      <td>605</td>\n",
       "    </tr>\n",
       "    <tr>\n",
       "      <th>233</th>\n",
       "      <td>Middle-Old</td>\n",
       "      <td>Female</td>\n",
       "      <td>Own</td>\n",
       "      <td>Married</td>\n",
       "      <td>Close</td>\n",
       "      <td>74400</td>\n",
       "      <td>0-1</td>\n",
       "      <td>High</td>\n",
       "      <td>18</td>\n",
       "      <td>2479</td>\n",
       "      <td>704</td>\n",
       "    </tr>\n",
       "    <tr>\n",
       "      <th>739</th>\n",
       "      <td>Middle-Old</td>\n",
       "      <td>Male</td>\n",
       "      <td>Rent</td>\n",
       "      <td>Single</td>\n",
       "      <td>Close</td>\n",
       "      <td>45900</td>\n",
       "      <td>0-1</td>\n",
       "      <td>Medium</td>\n",
       "      <td>12</td>\n",
       "      <td>716</td>\n",
       "      <td>293</td>\n",
       "    </tr>\n",
       "    <tr>\n",
       "      <th>865</th>\n",
       "      <td>Middle-Old</td>\n",
       "      <td>Male</td>\n",
       "      <td>Own</td>\n",
       "      <td>Married</td>\n",
       "      <td>Close</td>\n",
       "      <td>96100</td>\n",
       "      <td>0-1</td>\n",
       "      <td>High</td>\n",
       "      <td>6</td>\n",
       "      <td>1588</td>\n",
       "      <td>744</td>\n",
       "    </tr>\n",
       "    <tr>\n",
       "      <th>523</th>\n",
       "      <td>Middle-Old</td>\n",
       "      <td>Female</td>\n",
       "      <td>Rent</td>\n",
       "      <td>Married</td>\n",
       "      <td>Far</td>\n",
       "      <td>72200</td>\n",
       "      <td>0-1</td>\n",
       "      <td>High</td>\n",
       "      <td>24</td>\n",
       "      <td>3069</td>\n",
       "      <td>1198</td>\n",
       "    </tr>\n",
       "  </tbody>\n",
       "</table>\n",
       "</div>"
      ],
      "text/plain": [
       "            Age  Gender OwnHome  Married Location  Salary Children History  \\\n",
       "674  Middle-Old  Female     Own  Married    Close   85500      2-3  Medium   \n",
       "233  Middle-Old  Female     Own  Married    Close   74400      0-1    High   \n",
       "739  Middle-Old    Male    Rent   Single    Close   45900      0-1  Medium   \n",
       "865  Middle-Old    Male     Own  Married    Close   96100      0-1    High   \n",
       "523  Middle-Old  Female    Rent  Married      Far   72200      0-1    High   \n",
       "\n",
       "     Catalogs  AmountSpent  Cust_Id  \n",
       "674        18          895      605  \n",
       "233        18         2479      704  \n",
       "739        12          716      293  \n",
       "865         6         1588      744  \n",
       "523        24         3069     1198  "
      ]
     },
     "execution_count": 20,
     "metadata": {},
     "output_type": "execute_result"
    }
   ],
   "source": [
    "train.head()"
   ]
  },
  {
   "cell_type": "code",
   "execution_count": 21,
   "id": "f5c0579e-822c-4a46-9b7b-c2345ce4ab4c",
   "metadata": {},
   "outputs": [],
   "source": [
    "import statsmodels.formula.api as smf\n",
    "from patsy import dmatrices"
   ]
  },
  {
   "cell_type": "code",
   "execution_count": 22,
   "id": "70384dd2-d713-46c6-ad81-c00d8071b816",
   "metadata": {},
   "outputs": [],
   "source": [
    "model1=smf.ols('''AmountSpent~C(Age)+C(Gender)+C(OwnHome)+C(Married)+\n",
    "                 C(Location)+Salary+Children+C(History)+Catalogs''',data=train).fit()"
   ]
  },
  {
   "cell_type": "code",
   "execution_count": 24,
   "id": "cfc00176",
   "metadata": {},
   "outputs": [
    {
     "ename": "SyntaxError",
     "evalue": "invalid syntax (2257003315.py, line 1)",
     "output_type": "error",
     "traceback": [
      "\u001b[1;36m  Input \u001b[1;32mIn [24]\u001b[1;36m\u001b[0m\n\u001b[1;33m    Here the P value should be less than the significance valie (5% or 0.05)\u001b[0m\n\u001b[1;37m         ^\u001b[0m\n\u001b[1;31mSyntaxError\u001b[0m\u001b[1;31m:\u001b[0m invalid syntax\n"
     ]
    }
   ],
   "source": [
    "Here the P value should be less than the significance valie (5% or 0.05) \n",
    "If P<0.05, we accept that value lying between [0.025 and 0.975]"
   ]
  },
  {
   "cell_type": "code",
   "execution_count": 25,
   "id": "f4a82309-69a4-404b-9eb6-051b3e983ff0",
   "metadata": {},
   "outputs": [
    {
     "name": "stdout",
     "output_type": "stream",
     "text": [
      "                            OLS Regression Results                            \n",
      "==============================================================================\n",
      "Dep. Variable:            AmountSpent   R-squared:                       0.750\n",
      "Model:                            OLS   Adj. R-squared:                  0.746\n",
      "Method:                 Least Squares   F-statistic:                     187.8\n",
      "Date:                Sun, 26 Feb 2023   Prob (F-statistic):          9.16e-199\n",
      "Time:                        11:49:37   Log-Likelihood:                -5324.6\n",
      "No. Observations:                 700   AIC:                         1.067e+04\n",
      "Df Residuals:                     688   BIC:                         1.073e+04\n",
      "Df Model:                          11                                         \n",
      "Covariance Type:            nonrobust                                         \n",
      "=============================================================================================\n",
      "                                coef    std err          t      P>|t|      [0.025      0.975]\n",
      "---------------------------------------------------------------------------------------------\n",
      "Intercept                  -134.2302    126.364     -1.062      0.288    -382.336     113.876\n",
      "C(Age)[T.Young]              -5.4165     55.076     -0.098      0.922    -113.553     102.720\n",
      "C(Gender)[T.Male]           -40.2653     39.191     -1.027      0.305    -117.214      36.684\n",
      "C(OwnHome)[T.Rent]          -50.6079     44.038     -1.149      0.251    -137.074      35.858\n",
      "C(Married)[T.Single]         -3.0776     50.889     -0.060      0.952    -102.994      96.839\n",
      "C(Location)[T.Far]          435.2792     43.438     10.021      0.000     349.993     520.565\n",
      "Children[T.2-3]            -381.5761     46.059     -8.285      0.000    -472.008    -291.144\n",
      "C(History)[T.Low]          -464.4192     77.078     -6.025      0.000    -615.755    -313.083\n",
      "C(History)[T.Medium]       -487.2177     63.118     -7.719      0.000    -611.145    -363.290\n",
      "C(History)[T.NewCustomer]   -67.5273     61.232     -1.103      0.270    -187.751      52.696\n",
      "Salary                        0.0180      0.001     15.271      0.000       0.016       0.020\n",
      "Catalogs                     41.3310      2.941     14.056      0.000      35.558      47.104\n",
      "==============================================================================\n",
      "Omnibus:                      206.494   Durbin-Watson:                   2.100\n",
      "Prob(Omnibus):                  0.000   Jarque-Bera (JB):              909.738\n",
      "Skew:                           1.286   Prob(JB):                    2.84e-198\n",
      "Kurtosis:                       7.958   Cond. No.                     5.20e+05\n",
      "==============================================================================\n",
      "\n",
      "Notes:\n",
      "[1] Standard Errors assume that the covariance matrix of the errors is correctly specified.\n",
      "[2] The condition number is large, 5.2e+05. This might indicate that there are\n",
      "strong multicollinearity or other numerical problems.\n"
     ]
    }
   ],
   "source": [
    "print(model1.summary())"
   ]
  },
  {
   "cell_type": "code",
   "execution_count": 26,
   "id": "b4af6cad-cff2-43d0-8977-bd94636af839",
   "metadata": {},
   "outputs": [],
   "source": [
    "## Remove the non significant variables from the model, we will need to create dummies for that\n",
    "## create dummies\n",
    "train[\"Low\"]=train[\"History\"].map(lambda x: 1 if x==\"Low\" else 0)\n",
    "test[\"Low\"]=test[\"History\"].map(lambda x: 1 if x==\"Low\" else 0)\n",
    "train[\"Medium\"]=train[\"History\"].map(lambda x: 1 if x==\"Medium\" else 0)\n",
    "test[\"Medium\"]=test[\"History\"].map(lambda x: 1 if x==\"Medium\" else 0)"
   ]
  },
  {
   "cell_type": "code",
   "execution_count": 27,
   "id": "e7de7b9b-1e49-46ac-b002-c46d17d05933",
   "metadata": {},
   "outputs": [
    {
     "name": "stdout",
     "output_type": "stream",
     "text": [
      "                            OLS Regression Results                            \n",
      "==============================================================================\n",
      "Dep. Variable:            AmountSpent   R-squared:                       0.749\n",
      "Model:                            OLS   Adj. R-squared:                  0.746\n",
      "Method:                 Least Squares   F-statistic:                     344.0\n",
      "Date:                Sun, 26 Feb 2023   Prob (F-statistic):          5.39e-204\n",
      "Time:                        11:49:39   Log-Likelihood:                -5326.6\n",
      "No. Observations:                 700   AIC:                         1.067e+04\n",
      "Df Residuals:                     693   BIC:                         1.070e+04\n",
      "Df Model:                           6                                         \n",
      "Covariance Type:            nonrobust                                         \n",
      "======================================================================================\n",
      "                         coef    std err          t      P>|t|      [0.025      0.975]\n",
      "--------------------------------------------------------------------------------------\n",
      "Intercept           -274.3651     68.475     -4.007      0.000    -408.808    -139.922\n",
      "C(Children)[T.2-3]  -392.2557     43.868     -8.942      0.000    -478.386    -306.125\n",
      "C(Location)[T.Far]   441.4233     42.425     10.405      0.000     358.126     524.720\n",
      "Salary                 0.0188      0.001     26.200      0.000       0.017       0.020\n",
      "Low                 -405.4622     55.481     -7.308      0.000    -514.393    -296.532\n",
      "Medium              -443.7933     48.068     -9.233      0.000    -538.169    -349.417\n",
      "Catalogs              41.9925      2.873     14.615      0.000      36.351      47.634\n",
      "==============================================================================\n",
      "Omnibus:                      205.337   Durbin-Watson:                   2.089\n",
      "Prob(Omnibus):                  0.000   Jarque-Bera (JB):              903.273\n",
      "Skew:                           1.278   Prob(JB):                    7.19e-197\n",
      "Kurtosis:                       7.943   Cond. No.                     2.86e+05\n",
      "==============================================================================\n",
      "\n",
      "Notes:\n",
      "[1] Standard Errors assume that the covariance matrix of the errors is correctly specified.\n",
      "[2] The condition number is large, 2.86e+05. This might indicate that there are\n",
      "strong multicollinearity or other numerical problems.\n"
     ]
    }
   ],
   "source": [
    "formula=\"AmountSpent~Salary+C(Children)+Low+Medium+C(Location)+Catalogs\"\n",
    "model2=smf.ols(formula,data=train).fit()\n",
    "print(model2.summary())"
   ]
  },
  {
   "cell_type": "code",
   "execution_count": 28,
   "id": "3f5e4e0f-48c9-4ab8-882b-bf5bcf6a8ca8",
   "metadata": {},
   "outputs": [],
   "source": [
    "### Model Assumption checks\n",
    "## Normality of residuals check"
   ]
  },
  {
   "cell_type": "code",
   "execution_count": 29,
   "id": "9ee0fd83-7bf2-4cdb-8abd-ce0151560867",
   "metadata": {},
   "outputs": [
    {
     "data": {
      "text/plain": [
       "(array([ 27., 136., 241., 217.,  49.,  17.,   7.,   1.,   4.,   1.]),\n",
       " array([-1165.0324759 ,  -756.06326003,  -347.09404416,    61.8751717 ,\n",
       "          470.84438757,   879.81360344,  1288.78281931,  1697.75203518,\n",
       "         2106.72125104,  2515.69046691,  2924.65968278]),\n",
       " <BarContainer object of 10 artists>)"
      ]
     },
     "execution_count": 29,
     "metadata": {},
     "output_type": "execute_result"
    },
    {
     "data": {
      "image/png": "[encoded data removed]",
      "text/plain": [
       "<Figure size 432x288 with 1 Axes>"
      ]
     },
     "metadata": {
      "needs_background": "light"
     },
     "output_type": "display_data"
    }
   ],
   "source": [
    "residuals=model2.resid\n",
    "plt.hist(residuals) ## centered at zero, looks mostly symmetrical"
   ]
  },
  {
   "cell_type": "code",
   "execution_count": 30,
   "id": "36868a05-55d7-4293-9486-0517341848e6",
   "metadata": {},
   "outputs": [
    {
     "data": {
      "text/plain": [
       "[<matplotlib.lines.Line2D at 0x2592f18d820>]"
      ]
     },
     "execution_count": 30,
     "metadata": {},
     "output_type": "execute_result"
    },
    {
     "data": {
      "image/png": "[encoded data removed]",
      "text/plain": [
       "<Figure size 432x288 with 1 Axes>"
      ]
     },
     "metadata": {
      "needs_background": "light"
     },
     "output_type": "display_data"
    }
   ],
   "source": [
    "### Non constant variation check\n",
    "fitted=model2.fittedvalues\n",
    "plt.plot(fitted,residuals,\"*\") ## Non constant variation detected, need to corrected for"
   ]
  },
  {
   "cell_type": "code",
   "execution_count": 31,
   "id": "29da3286-978e-48b4-a922-0822fc52d985",
   "metadata": {},
   "outputs": [
    {
     "data": {
      "text/html": [
       "<div>\n",
       "<style scoped>\n",
       "    .dataframe tbody tr th:only-of-type {\n",
       "        vertical-align: middle;\n",
       "    }\n",
       "\n",
       "    .dataframe tbody tr th {\n",
       "        vertical-align: top;\n",
       "    }\n",
       "\n",
       "    .dataframe thead th {\n",
       "        text-align: right;\n",
       "    }\n",
       "</style>\n",
       "<table border=\"1\" class=\"dataframe\">\n",
       "  <thead>\n",
       "    <tr style=\"text-align: right;\">\n",
       "      <th></th>\n",
       "      <th>VIF VALUES</th>\n",
       "      <th>Feature Name</th>\n",
       "    </tr>\n",
       "  </thead>\n",
       "  <tbody>\n",
       "    <tr>\n",
       "      <th>0</th>\n",
       "      <td>13.637747</td>\n",
       "      <td>Intercept</td>\n",
       "    </tr>\n",
       "    <tr>\n",
       "      <th>1</th>\n",
       "      <td>1.135407</td>\n",
       "      <td>C(Children)[T.2-3]</td>\n",
       "    </tr>\n",
       "    <tr>\n",
       "      <th>2</th>\n",
       "      <td>1.055400</td>\n",
       "      <td>C(Location)[T.Far]</td>\n",
       "    </tr>\n",
       "    <tr>\n",
       "      <th>3</th>\n",
       "      <td>1.347559</td>\n",
       "      <td>Salary</td>\n",
       "    </tr>\n",
       "    <tr>\n",
       "      <th>4</th>\n",
       "      <td>1.639647</td>\n",
       "      <td>Low</td>\n",
       "    </tr>\n",
       "    <tr>\n",
       "      <th>5</th>\n",
       "      <td>1.174494</td>\n",
       "      <td>Medium</td>\n",
       "    </tr>\n",
       "    <tr>\n",
       "      <th>6</th>\n",
       "      <td>1.056856</td>\n",
       "      <td>Catalogs</td>\n",
       "    </tr>\n",
       "  </tbody>\n",
       "</table>\n",
       "</div>"
      ],
      "text/plain": [
       "   VIF VALUES        Feature Name\n",
       "0   13.637747           Intercept\n",
       "1    1.135407  C(Children)[T.2-3]\n",
       "2    1.055400  C(Location)[T.Far]\n",
       "3    1.347559              Salary\n",
       "4    1.639647                 Low\n",
       "5    1.174494              Medium\n",
       "6    1.056856            Catalogs"
      ]
     },
     "execution_count": 31,
     "metadata": {},
     "output_type": "execute_result"
    }
   ],
   "source": [
    "### Check VIF\n",
    "from statsmodels.stats.outliers_influence import variance_inflation_factor\n",
    "y,X=dmatrices(formula,data=train,return_type=\"dataframe\")\n",
    "vif=pd.DataFrame()\n",
    "vif['VIF VALUES']=[variance_inflation_factor(X.values,i) for i in np.arange(0,X.shape[1])]\n",
    "vif[\"Feature Name\"]=X.columns\n",
    "vif"
   ]
  },
  {
   "cell_type": "code",
   "execution_count": 32,
   "id": "ba7e4a7a-3799-47ce-8a06-aeca23a6a852",
   "metadata": {},
   "outputs": [],
   "source": [
    "### VIF for all variables is less than 5 so there is no issue of multicollinearity"
   ]
  },
  {
   "cell_type": "code",
   "execution_count": 33,
   "id": "00ebe79f-9714-4c3d-adb3-1c498a8eb8e4",
   "metadata": {},
   "outputs": [],
   "source": [
    "model3=smf.ols(\"np.log(AmountSpent)~Salary+C(Children)+Low+Medium+C(Location)+Catalogs\",data=train).fit()"
   ]
  },
  {
   "cell_type": "code",
   "execution_count": 34,
   "id": "7e9c4236-5b5a-42af-b19e-16537a571548",
   "metadata": {},
   "outputs": [
    {
     "name": "stdout",
     "output_type": "stream",
     "text": [
      "                             OLS Regression Results                            \n",
      "===============================================================================\n",
      "Dep. Variable:     np.log(AmountSpent)   R-squared:                       0.839\n",
      "Model:                             OLS   Adj. R-squared:                  0.838\n",
      "Method:                  Least Squares   F-statistic:                     602.1\n",
      "Date:                 Sun, 26 Feb 2023   Prob (F-statistic):          5.62e-271\n",
      "Time:                         11:49:46   Log-Likelihood:                -259.93\n",
      "No. Observations:                  700   AIC:                             533.9\n",
      "Df Residuals:                      693   BIC:                             565.7\n",
      "Df Model:                            6                                         \n",
      "Covariance Type:             nonrobust                                         \n",
      "======================================================================================\n",
      "                         coef    std err          t      P>|t|      [0.025      0.975]\n",
      "--------------------------------------------------------------------------------------\n",
      "Intercept              5.5684      0.049    113.161      0.000       5.472       5.665\n",
      "C(Children)[T.2-3]    -0.3868      0.032    -12.270      0.000      -0.449      -0.325\n",
      "C(Location)[T.Far]     0.2959      0.030      9.705      0.000       0.236       0.356\n",
      "Salary              1.542e-05   5.14e-07     29.966      0.000    1.44e-05    1.64e-05\n",
      "Low                   -0.6963      0.040    -17.465      0.000      -0.775      -0.618\n",
      "Medium                -0.1647      0.035     -4.769      0.000      -0.233      -0.097\n",
      "Catalogs               0.0384      0.002     18.579      0.000       0.034       0.042\n",
      "==============================================================================\n",
      "Omnibus:                        7.113   Durbin-Watson:                   2.037\n",
      "Prob(Omnibus):                  0.029   Jarque-Bera (JB):                7.061\n",
      "Skew:                          -0.216   Prob(JB):                       0.0293\n",
      "Kurtosis:                       3.237   Cond. No.                     2.86e+05\n",
      "==============================================================================\n",
      "\n",
      "Notes:\n",
      "[1] Standard Errors assume that the covariance matrix of the errors is correctly specified.\n",
      "[2] The condition number is large, 2.86e+05. This might indicate that there are\n",
      "strong multicollinearity or other numerical problems.\n"
     ]
    }
   ],
   "source": [
    "print(model3.summary())"
   ]
  },
  {
   "cell_type": "code",
   "execution_count": 35,
   "id": "78c28b47-30fe-4449-a1c1-1758d2aaf3b0",
   "metadata": {},
   "outputs": [
    {
     "data": {
      "text/plain": [
       "[<matplotlib.lines.Line2D at 0x2592fb19940>]"
      ]
     },
     "execution_count": 35,
     "metadata": {},
     "output_type": "execute_result"
    },
    {
     "data": {
      "image/png": "[encoded data removed]",
      "text/plain": [
       "<Figure size 432x288 with 1 Axes>"
      ]
     },
     "metadata": {
      "needs_background": "light"
     },
     "output_type": "display_data"
    }
   ],
   "source": [
    "plt.plot(model3.fittedvalues,model3.resid,\"*\") ## Non constant variation problem removed!"
   ]
  },
  {
   "cell_type": "code",
   "execution_count": 36,
   "id": "9c10695f-e79e-4960-9f1c-f0260afa04fa",
   "metadata": {},
   "outputs": [
    {
     "data": {
      "text/plain": [
       "Intercept             5.568378\n",
       "C(Children)[T.2-3]   -0.386804\n",
       "C(Location)[T.Far]    0.295889\n",
       "Salary                0.000015\n",
       "Low                  -0.696315\n",
       "Medium               -0.164749\n",
       "Catalogs              0.038363\n",
       "dtype: float64"
      ]
     },
     "execution_count": 36,
     "metadata": {},
     "output_type": "execute_result"
    }
   ],
   "source": [
    "### Final model coefficient interpretation\n",
    "model3.params"
   ]
  },
  {
   "cell_type": "code",
   "execution_count": 37,
   "id": "b48ced57-ddfc-4e14-95fb-d1e1083d3b35",
   "metadata": {},
   "outputs": [],
   "source": [
    "## Amount spent increases as salary increases\n",
    "## People who are sent more catalogs tend to spend more\n",
    "## People who live far away from the stores of the competitors spend more C(Location)[T.Far]\n",
    "## Poeple with low and medium purchase history spend less than people with High purchase history or new customers\n",
    "##  People with 2-3 children spend less that people with 0-1 children"
   ]
  },
  {
   "cell_type": "code",
   "execution_count": null,
   "id": "ad46a719",
   "metadata": {},
   "outputs": [],
   "source": []
  }
 ],
 "metadata": {
  "kernelspec": {
   "display_name": "Python 3 (ipykernel)",
   "language": "python",
   "name": "python3"
  },
  "language_info": {
   "codemirror_mode": {
    "name": "ipython",
    "version": 3
   },
   "file_extension": ".py",
   "mimetype": "text/x-python",
   "name": "python",
   "nbconvert_exporter": "python",
   "pygments_lexer": "ipython3",
   "version": "3.9.12"
  }
 },
 "nbformat": 4,
 "nbformat_minor": 5
}
